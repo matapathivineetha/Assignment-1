{
 "cells": [
  {
   "cell_type": "code",
   "execution_count": 8,
   "metadata": {},
   "outputs": [
    {
     "name": "stdout",
     "output_type": "stream",
     "text": [
      "enter the first number:20\n",
      "enter the second number:30\n",
      "50 -10 600 0.6666666666666666 20 1073741824000000000000000000000000000000 0\n"
     ]
    }
   ],
   "source": [
    "#Design simple calculator using operators\n",
    "number_1=int(input('enter the first number:'))\n",
    "number_2=int(input('enter the second number:'))\n",
    "print(number_1+number_2,number_1-number_2,number_1*number_2,number_1/number_2,number_1%number_2,number_1**number_2,number_1//number_2)"
   ]
  },
  {
   "cell_type": "code",
   "execution_count": 9,
   "metadata": {},
   "outputs": [
    {
     "name": "stdout",
     "output_type": "stream",
     "text": [
      "Enter the principle amount:20\n",
      "Enter the time(years):30\n",
      "Enter the rate:400\n",
      "The simple interest is: 2400.0\n"
     ]
    }
   ],
   "source": [
    "#Simple intrest\n",
    "p=float(input(\"Enter the principle amount:\"))\n",
    "t=int(input(\"Enter the time(years):\"))\n",
    "r=float(input(\"Enter the rate:\"))\n",
    "s_i=(p*t*r)/100\n",
    "print(\"The simple interest is:\",s_i)\n"
   ]
  },
  {
   "cell_type": "code",
   "execution_count": 11,
   "metadata": {},
   "outputs": [
    {
     "name": "stdout",
     "output_type": "stream",
     "text": [
      " Enter the radius of a circle: 20\n",
      " Area Of a Circle = 1256.00\n",
      " Circumference Of a Circle = 125.60\n"
     ]
    }
   ],
   "source": [
    "#Area and Circumference of a circle\n",
    "PI = 3.14\n",
    "r = float(input(' Enter the radius of a circle: '))\n",
    "A = PI * r * r\n",
    "C = 2 * PI * r\n",
    "print(\" Area Of a Circle = %.2f\" %A)\n",
    "print(\" Circumference Of a Circle = %.2f\" %C)"
   ]
  },
  {
   "cell_type": "code",
   "execution_count": 2,
   "metadata": {},
   "outputs": [
    {
     "name": "stdout",
     "output_type": "stream",
     "text": [
      "enter the value of a\n",
      "enter the value of b\n",
      "enter the value of c\n",
      "enter first side10\n",
      "enter second side10\n",
      "enter third side20\n",
      "the area of triangle is %.2f 120000.0\n"
     ]
    }
   ],
   "source": [
    "#Area of triangle\n",
    "print('enter the value of a')\n",
    "print('enter the value of b')\n",
    "print('enter the value of c')\n",
    "a=float(input('enter first side'))\n",
    "b=float(input('enter second side'))\n",
    "c=float(input('enter third side'))\n",
    "s=a+b+c/2\n",
    "A=(s*(s-a)*(s-b)*(s-c))\n",
    "print('the area of triangle is %.2f',A)"
   ]
  },
  {
   "cell_type": "code",
   "execution_count": 3,
   "metadata": {},
   "outputs": [
    {
     "name": "stdout",
     "output_type": "stream",
     "text": [
      "enter the celsius=200\n",
      "Farenhiet= 392.0\n"
     ]
    }
   ],
   "source": [
    "#Conversion of Celsius to Farenhiet\n",
    "C=float(input(\"enter the celsius=\"))\n",
    "F=C*(1.8)+32\n",
    "print(\"Farenhiet=\",F)"
   ]
  },
  {
   "cell_type": "code",
   "execution_count": 6,
   "metadata": {},
   "outputs": [
    {
     "name": "stdout",
     "output_type": "stream",
     "text": [
      "Enter the length of a rectangle3\n",
      "Enter the width of a rectangle5\n",
      "the area of rectangle is 3.0 and 5.0 - 15.0\n"
     ]
    }
   ],
   "source": [
    "#Area of rectangle\n",
    "L=float(input('Enter the length of a rectangle' ))\n",
    "W=float(input('Enter the width of a rectangle'))\n",
    "A=L*W\n",
    "print(\"the area of rectangle is\",L,\"and\",W,\"-\",A)"
   ]
  },
  {
   "cell_type": "code",
   "execution_count": 21,
   "metadata": {},
   "outputs": [
    {
     "name": "stdout",
     "output_type": "stream",
     "text": [
      "enter the value of S1 4\n",
      "enter the value of S2 4\n",
      "enter the value of S3 4\n",
      "enter the value of S4 4\n",
      "the perimeter is 64.0\n"
     ]
    }
   ],
   "source": [
    "#Perimeter of square\n",
    "S1=float(input(\"enter the value of S1\"))\n",
    "S2=float(input(\"enter the value of S2\"))\n",
    "S3=float(input(\"enter the value of S3\"))\n",
    "S4=float(input(\"enter the value of S4\"))\n",
    "A=S1+S2+S3+S4\n",
    "P=4*A\n",
    "print(\"the perimeter is\",P)"
   ]
  },
  {
   "cell_type": "code",
   "execution_count": 22,
   "metadata": {},
   "outputs": [
    {
     "name": "stdout",
     "output_type": "stream",
     "text": [
      "enter the first value 3\n",
      "enter the second value5\n",
      "value before swapping 3\n",
      "value before swapping 5\n",
      "value after swapping 5\n",
      "value after swapping 3\n"
     ]
    }
   ],
   "source": [
    "#Swapping of two numbers\n",
    "number_1=int(input(\"enter the first value\"))\n",
    "number_2=int(input(\"enter the second value\"))\n",
    "print(\"value before swapping\",number_1)\n",
    "print(\"value before swapping\",number_2)\n",
    "temp=number_1\n",
    "number_1=number_2\n",
    "number_2=temp\n",
    "print(\"value after swapping\",number_1)\n",
    "print(\"value after swapping\",number_2)"
   ]
  },
  {
   "cell_type": "code",
   "execution_count": null,
   "metadata": {},
   "outputs": [],
   "source": []
  }
 ],
 "metadata": {
  "kernelspec": {
   "display_name": "Python 3",
   "language": "python",
   "name": "python3"
  },
  "language_info": {
   "codemirror_mode": {
    "name": "ipython",
    "version": 3
   },
   "file_extension": ".py",
   "mimetype": "text/x-python",
   "name": "python",
   "nbconvert_exporter": "python",
   "pygments_lexer": "ipython3",
   "version": "3.8.3"
  }
 },
 "nbformat": 4,
 "nbformat_minor": 4
}
